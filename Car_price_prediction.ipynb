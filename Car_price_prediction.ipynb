{
 "cells": [
  {
   "cell_type": "code",
   "execution_count": 1,
   "metadata": {},
   "outputs": [],
   "source": [
    "import pandas as pd\n",
    "import numpy as np\n",
    "import matplotlib.pyplot as plt\n",
    "%matplotlib inline"
   ]
  },
  {
   "cell_type": "code",
   "execution_count": 2,
   "metadata": {},
   "outputs": [],
   "source": [
    "car_data = pd.read_csv('Data_Train (1).csv', index_col=0)"
   ]
  },
  {
   "cell_type": "code",
   "execution_count": 133,
   "metadata": {},
   "outputs": [
    {
     "data": {
      "text/html": [
       "<div>\n",
       "<style scoped>\n",
       "    .dataframe tbody tr th:only-of-type {\n",
       "        vertical-align: middle;\n",
       "    }\n",
       "\n",
       "    .dataframe tbody tr th {\n",
       "        vertical-align: top;\n",
       "    }\n",
       "\n",
       "    .dataframe thead th {\n",
       "        text-align: right;\n",
       "    }\n",
       "</style>\n",
       "<table border=\"1\" class=\"dataframe\">\n",
       "  <thead>\n",
       "    <tr style=\"text-align: right;\">\n",
       "      <th></th>\n",
       "      <th>Location</th>\n",
       "      <th>Year</th>\n",
       "      <th>Kilometers_Driven</th>\n",
       "      <th>Fuel_Type</th>\n",
       "      <th>Transmission</th>\n",
       "      <th>Owner_Type</th>\n",
       "      <th>Mileage</th>\n",
       "      <th>Engine</th>\n",
       "      <th>Power</th>\n",
       "      <th>Seats</th>\n",
       "      <th>New_Price</th>\n",
       "      <th>Price</th>\n",
       "    </tr>\n",
       "    <tr>\n",
       "      <th>Name</th>\n",
       "      <th></th>\n",
       "      <th></th>\n",
       "      <th></th>\n",
       "      <th></th>\n",
       "      <th></th>\n",
       "      <th></th>\n",
       "      <th></th>\n",
       "      <th></th>\n",
       "      <th></th>\n",
       "      <th></th>\n",
       "      <th></th>\n",
       "      <th></th>\n",
       "    </tr>\n",
       "  </thead>\n",
       "  <tbody>\n",
       "    <tr>\n",
       "      <th>Maruti Wagon R LXI CNG</th>\n",
       "      <td>Mumbai</td>\n",
       "      <td>2010</td>\n",
       "      <td>72000</td>\n",
       "      <td>CNG</td>\n",
       "      <td>Manual</td>\n",
       "      <td>First</td>\n",
       "      <td>26.60</td>\n",
       "      <td>998.0</td>\n",
       "      <td>58.16</td>\n",
       "      <td>5.0</td>\n",
       "      <td>23.075655</td>\n",
       "      <td>1.75</td>\n",
       "    </tr>\n",
       "    <tr>\n",
       "      <th>Hyundai Creta 1.6 CRDi SX Option</th>\n",
       "      <td>Pune</td>\n",
       "      <td>2015</td>\n",
       "      <td>41000</td>\n",
       "      <td>Diesel</td>\n",
       "      <td>Manual</td>\n",
       "      <td>First</td>\n",
       "      <td>19.67</td>\n",
       "      <td>1582.0</td>\n",
       "      <td>126.20</td>\n",
       "      <td>5.0</td>\n",
       "      <td>23.075655</td>\n",
       "      <td>12.50</td>\n",
       "    </tr>\n",
       "    <tr>\n",
       "      <th>Honda Jazz V</th>\n",
       "      <td>Chennai</td>\n",
       "      <td>2011</td>\n",
       "      <td>46000</td>\n",
       "      <td>Petrol</td>\n",
       "      <td>Manual</td>\n",
       "      <td>First</td>\n",
       "      <td>18.20</td>\n",
       "      <td>1199.0</td>\n",
       "      <td>88.70</td>\n",
       "      <td>5.0</td>\n",
       "      <td>8.610000</td>\n",
       "      <td>4.50</td>\n",
       "    </tr>\n",
       "    <tr>\n",
       "      <th>Maruti Ertiga VDI</th>\n",
       "      <td>Chennai</td>\n",
       "      <td>2012</td>\n",
       "      <td>87000</td>\n",
       "      <td>Diesel</td>\n",
       "      <td>Manual</td>\n",
       "      <td>First</td>\n",
       "      <td>20.77</td>\n",
       "      <td>1248.0</td>\n",
       "      <td>88.76</td>\n",
       "      <td>7.0</td>\n",
       "      <td>23.075655</td>\n",
       "      <td>6.00</td>\n",
       "    </tr>\n",
       "    <tr>\n",
       "      <th>Audi A4 New 2.0 TDI Multitronic</th>\n",
       "      <td>Coimbatore</td>\n",
       "      <td>2013</td>\n",
       "      <td>40670</td>\n",
       "      <td>Diesel</td>\n",
       "      <td>Automatic</td>\n",
       "      <td>Second</td>\n",
       "      <td>15.20</td>\n",
       "      <td>1968.0</td>\n",
       "      <td>140.80</td>\n",
       "      <td>5.0</td>\n",
       "      <td>23.075655</td>\n",
       "      <td>17.74</td>\n",
       "    </tr>\n",
       "    <tr>\n",
       "      <th>Hyundai EON LPG Era Plus Option</th>\n",
       "      <td>Hyderabad</td>\n",
       "      <td>2012</td>\n",
       "      <td>75000</td>\n",
       "      <td>LPG</td>\n",
       "      <td>Manual</td>\n",
       "      <td>First</td>\n",
       "      <td>21.10</td>\n",
       "      <td>814.0</td>\n",
       "      <td>55.20</td>\n",
       "      <td>5.0</td>\n",
       "      <td>23.075655</td>\n",
       "      <td>2.35</td>\n",
       "    </tr>\n",
       "  </tbody>\n",
       "</table>\n",
       "</div>"
      ],
      "text/plain": [
       "                                    Location  Year  Kilometers_Driven  \\\n",
       "Name                                                                    \n",
       "Maruti Wagon R LXI CNG                Mumbai  2010              72000   \n",
       "Hyundai Creta 1.6 CRDi SX Option        Pune  2015              41000   \n",
       "Honda Jazz V                         Chennai  2011              46000   \n",
       "Maruti Ertiga VDI                    Chennai  2012              87000   \n",
       "Audi A4 New 2.0 TDI Multitronic   Coimbatore  2013              40670   \n",
       "Hyundai EON LPG Era Plus Option    Hyderabad  2012              75000   \n",
       "\n",
       "                                 Fuel_Type Transmission Owner_Type  Mileage  \\\n",
       "Name                                                                          \n",
       "Maruti Wagon R LXI CNG                 CNG       Manual      First    26.60   \n",
       "Hyundai Creta 1.6 CRDi SX Option    Diesel       Manual      First    19.67   \n",
       "Honda Jazz V                        Petrol       Manual      First    18.20   \n",
       "Maruti Ertiga VDI                   Diesel       Manual      First    20.77   \n",
       "Audi A4 New 2.0 TDI Multitronic     Diesel    Automatic     Second    15.20   \n",
       "Hyundai EON LPG Era Plus Option        LPG       Manual      First    21.10   \n",
       "\n",
       "                                  Engine   Power  Seats  New_Price  Price  \n",
       "Name                                                                       \n",
       "Maruti Wagon R LXI CNG             998.0   58.16    5.0  23.075655   1.75  \n",
       "Hyundai Creta 1.6 CRDi SX Option  1582.0  126.20    5.0  23.075655  12.50  \n",
       "Honda Jazz V                      1199.0   88.70    5.0   8.610000   4.50  \n",
       "Maruti Ertiga VDI                 1248.0   88.76    7.0  23.075655   6.00  \n",
       "Audi A4 New 2.0 TDI Multitronic   1968.0  140.80    5.0  23.075655  17.74  \n",
       "Hyundai EON LPG Era Plus Option    814.0   55.20    5.0  23.075655   2.35  "
      ]
     },
     "execution_count": 133,
     "metadata": {},
     "output_type": "execute_result"
    }
   ],
   "source": [
    "car_data.head(6)"
   ]
  },
  {
   "cell_type": "code",
   "execution_count": 4,
   "metadata": {},
   "outputs": [
    {
     "data": {
      "text/plain": [
       "Location                0\n",
       "Year                    0\n",
       "Kilometers_Driven       0\n",
       "Fuel_Type               0\n",
       "Transmission            0\n",
       "Owner_Type              0\n",
       "Mileage                 2\n",
       "Engine                 36\n",
       "Power                  36\n",
       "Seats                  42\n",
       "New_Price            5195\n",
       "Price                   0\n",
       "dtype: int64"
      ]
     },
     "execution_count": 4,
     "metadata": {},
     "output_type": "execute_result"
    }
   ],
   "source": [
    "#finding the null values in each column\n",
    "car_data.isnull().sum()"
   ]
  },
  {
   "cell_type": "markdown",
   "metadata": {},
   "source": [
    "# Observations\n",
    "* Missing values in Mileage,Engine,Power,Seats,New_Price\n",
    "* Mileage has two different units, km/kg,kmpl\n",
    "* Engine and Power also have strings"
   ]
  },
  {
   "cell_type": "markdown",
   "metadata": {},
   "source": [
    "# Treating engine column"
   ]
  },
  {
   "cell_type": "code",
   "execution_count": 5,
   "metadata": {},
   "outputs": [],
   "source": [
    "car_data['Engine'] = car_data['Engine'].str.replace(r'\\D', '')"
   ]
  },
  {
   "cell_type": "code",
   "execution_count": 6,
   "metadata": {},
   "outputs": [
    {
     "data": {
      "text/plain": [
       "Name\n",
       "Maruti Wagon R LXI CNG               998\n",
       "Hyundai Creta 1.6 CRDi SX Option    1582\n",
       "Honda Jazz V                        1199\n",
       "Maruti Ertiga VDI                   1248\n",
       "Audi A4 New 2.0 TDI Multitronic     1968\n",
       "Name: Engine, dtype: object"
      ]
     },
     "execution_count": 6,
     "metadata": {},
     "output_type": "execute_result"
    }
   ],
   "source": [
    "car_data['Engine'].head()"
   ]
  },
  {
   "cell_type": "code",
   "execution_count": 7,
   "metadata": {},
   "outputs": [
    {
     "name": "stdout",
     "output_type": "stream",
     "text": [
      "<class 'pandas.core.frame.DataFrame'>\n",
      "Index: 6019 entries, Maruti Wagon R LXI CNG to Chevrolet Beat Diesel\n",
      "Data columns (total 12 columns):\n",
      "Location             6019 non-null object\n",
      "Year                 6019 non-null int64\n",
      "Kilometers_Driven    6019 non-null int64\n",
      "Fuel_Type            6019 non-null object\n",
      "Transmission         6019 non-null object\n",
      "Owner_Type           6019 non-null object\n",
      "Mileage              6017 non-null object\n",
      "Engine               5983 non-null object\n",
      "Power                5983 non-null object\n",
      "Seats                5977 non-null float64\n",
      "New_Price            824 non-null object\n",
      "Price                6019 non-null float64\n",
      "dtypes: float64(2), int64(2), object(8)\n",
      "memory usage: 611.3+ KB\n"
     ]
    }
   ],
   "source": [
    "car_data.info()"
   ]
  },
  {
   "cell_type": "code",
   "execution_count": 8,
   "metadata": {},
   "outputs": [],
   "source": [
    "car_data['Engine'] = car_data['Engine'].astype(float)"
   ]
  },
  {
   "cell_type": "code",
   "execution_count": 9,
   "metadata": {},
   "outputs": [
    {
     "name": "stdout",
     "output_type": "stream",
     "text": [
      "<class 'pandas.core.frame.DataFrame'>\n",
      "Index: 6019 entries, Maruti Wagon R LXI CNG to Chevrolet Beat Diesel\n",
      "Data columns (total 12 columns):\n",
      "Location             6019 non-null object\n",
      "Year                 6019 non-null int64\n",
      "Kilometers_Driven    6019 non-null int64\n",
      "Fuel_Type            6019 non-null object\n",
      "Transmission         6019 non-null object\n",
      "Owner_Type           6019 non-null object\n",
      "Mileage              6017 non-null object\n",
      "Engine               5983 non-null float64\n",
      "Power                5983 non-null object\n",
      "Seats                5977 non-null float64\n",
      "New_Price            824 non-null object\n",
      "Price                6019 non-null float64\n",
      "dtypes: float64(3), int64(2), object(7)\n",
      "memory usage: 611.3+ KB\n"
     ]
    }
   ],
   "source": [
    "car_data.info()"
   ]
  },
  {
   "cell_type": "code",
   "execution_count": 10,
   "metadata": {},
   "outputs": [
    {
     "data": {
      "text/plain": [
       "36"
      ]
     },
     "execution_count": 10,
     "metadata": {},
     "output_type": "execute_result"
    }
   ],
   "source": [
    "car_data['Engine'].isnull().sum()"
   ]
  },
  {
   "cell_type": "markdown",
   "metadata": {},
   "source": [
    "Replacing the null values with mean"
   ]
  },
  {
   "cell_type": "code",
   "execution_count": 11,
   "metadata": {},
   "outputs": [],
   "source": [
    "car_data['Engine'].fillna(car_data.Engine.mean(), inplace = True)"
   ]
  },
  {
   "cell_type": "code",
   "execution_count": 12,
   "metadata": {},
   "outputs": [
    {
     "data": {
      "text/plain": [
       "Location                0\n",
       "Year                    0\n",
       "Kilometers_Driven       0\n",
       "Fuel_Type               0\n",
       "Transmission            0\n",
       "Owner_Type              0\n",
       "Mileage                 2\n",
       "Engine                  0\n",
       "Power                  36\n",
       "Seats                  42\n",
       "New_Price            5195\n",
       "Price                   0\n",
       "dtype: int64"
      ]
     },
     "execution_count": 12,
     "metadata": {},
     "output_type": "execute_result"
    }
   ],
   "source": [
    "car_data.isnull().sum()"
   ]
  },
  {
   "cell_type": "markdown",
   "metadata": {},
   "source": [
    "# Treating Power column"
   ]
  },
  {
   "cell_type": "markdown",
   "metadata": {},
   "source": [
    "Removing bhp from the end"
   ]
  },
  {
   "cell_type": "code",
   "execution_count": 13,
   "metadata": {},
   "outputs": [],
   "source": [
    "car_data['Power'] = car_data['Power'].str.replace(r'bhp','')"
   ]
  },
  {
   "cell_type": "code",
   "execution_count": 14,
   "metadata": {},
   "outputs": [
    {
     "data": {
      "text/plain": [
       "Name\n",
       "Maruti Wagon R LXI CNG              58.16 \n",
       "Hyundai Creta 1.6 CRDi SX Option    126.2 \n",
       "Honda Jazz V                         88.7 \n",
       "Maruti Ertiga VDI                   88.76 \n",
       "Name: Power, dtype: object"
      ]
     },
     "execution_count": 14,
     "metadata": {},
     "output_type": "execute_result"
    }
   ],
   "source": [
    "car_data.Power.head(4)"
   ]
  },
  {
   "cell_type": "code",
   "execution_count": 15,
   "metadata": {},
   "outputs": [
    {
     "data": {
      "text/plain": [
       "36"
      ]
     },
     "execution_count": 15,
     "metadata": {},
     "output_type": "execute_result"
    }
   ],
   "source": [
    "car_data.Power.isnull().sum()"
   ]
  },
  {
   "cell_type": "markdown",
   "metadata": {},
   "source": [
    "Replacing the null value with 0"
   ]
  },
  {
   "cell_type": "code",
   "execution_count": 16,
   "metadata": {},
   "outputs": [],
   "source": [
    "car_data['Power'] = car_data.Power.str.replace(r'null','0')"
   ]
  },
  {
   "cell_type": "code",
   "execution_count": 17,
   "metadata": {},
   "outputs": [],
   "source": [
    "car_data['Power'] = car_data['Power'].astype(float)"
   ]
  },
  {
   "cell_type": "code",
   "execution_count": 18,
   "metadata": {},
   "outputs": [
    {
     "data": {
      "text/plain": [
       "Name\n",
       "Maruti Wagon R LXI CNG               58.16\n",
       "Hyundai Creta 1.6 CRDi SX Option    126.20\n",
       "Honda Jazz V                         88.70\n",
       "Maruti Ertiga VDI                    88.76\n",
       "Audi A4 New 2.0 TDI Multitronic     140.80\n",
       "Name: Power, dtype: float64"
      ]
     },
     "execution_count": 18,
     "metadata": {},
     "output_type": "execute_result"
    }
   ],
   "source": [
    "car_data.Power.head()"
   ]
  },
  {
   "cell_type": "code",
   "execution_count": 19,
   "metadata": {},
   "outputs": [],
   "source": [
    "car_data['Power'].fillna(car_data.Power.mean(), inplace = True)"
   ]
  },
  {
   "cell_type": "code",
   "execution_count": 20,
   "metadata": {},
   "outputs": [
    {
     "data": {
      "text/plain": [
       "0"
      ]
     },
     "execution_count": 20,
     "metadata": {},
     "output_type": "execute_result"
    }
   ],
   "source": [
    "car_data.Power.isnull().sum()"
   ]
  },
  {
   "cell_type": "code",
   "execution_count": 21,
   "metadata": {},
   "outputs": [
    {
     "name": "stdout",
     "output_type": "stream",
     "text": [
      "<class 'pandas.core.frame.DataFrame'>\n",
      "Index: 6019 entries, Maruti Wagon R LXI CNG to Chevrolet Beat Diesel\n",
      "Data columns (total 12 columns):\n",
      "Location             6019 non-null object\n",
      "Year                 6019 non-null int64\n",
      "Kilometers_Driven    6019 non-null int64\n",
      "Fuel_Type            6019 non-null object\n",
      "Transmission         6019 non-null object\n",
      "Owner_Type           6019 non-null object\n",
      "Mileage              6017 non-null object\n",
      "Engine               6019 non-null float64\n",
      "Power                6019 non-null float64\n",
      "Seats                5977 non-null float64\n",
      "New_Price            824 non-null object\n",
      "Price                6019 non-null float64\n",
      "dtypes: float64(4), int64(2), object(6)\n",
      "memory usage: 611.3+ KB\n"
     ]
    }
   ],
   "source": [
    "car_data.info()"
   ]
  },
  {
   "cell_type": "markdown",
   "metadata": {},
   "source": [
    "We have eliminated null values in engine and power"
   ]
  },
  {
   "cell_type": "markdown",
   "metadata": {},
   "source": [
    "# Treating seats column "
   ]
  },
  {
   "cell_type": "code",
   "execution_count": 22,
   "metadata": {},
   "outputs": [],
   "source": [
    "car_data['Seats'].fillna(car_data.Seats.mean(), inplace = True)"
   ]
  },
  {
   "cell_type": "code",
   "execution_count": 23,
   "metadata": {},
   "outputs": [
    {
     "data": {
      "text/plain": [
       "Location                0\n",
       "Year                    0\n",
       "Kilometers_Driven       0\n",
       "Fuel_Type               0\n",
       "Transmission            0\n",
       "Owner_Type              0\n",
       "Mileage                 2\n",
       "Engine                  0\n",
       "Power                   0\n",
       "Seats                   0\n",
       "New_Price            5195\n",
       "Price                   0\n",
       "dtype: int64"
      ]
     },
     "execution_count": 23,
     "metadata": {},
     "output_type": "execute_result"
    }
   ],
   "source": [
    "car_data.isnull().sum()"
   ]
  },
  {
   "cell_type": "markdown",
   "metadata": {},
   "source": [
    "Replaced the null values with mean in seats column"
   ]
  },
  {
   "cell_type": "markdown",
   "metadata": {},
   "source": [
    "# treating mileage column"
   ]
  },
  {
   "cell_type": "code",
   "execution_count": 24,
   "metadata": {},
   "outputs": [
    {
     "data": {
      "text/plain": [
       "array(['26.6 km/kg', '19.67 kmpl', '18.2 kmpl', '20.77 kmpl', '15.2 kmpl',\n",
       "       '21.1 km/kg', '23.08 kmpl', '11.36 kmpl', '20.54 kmpl',\n",
       "       '22.3 kmpl', '21.56 kmpl', '16.8 kmpl', '25.2 kmpl', '12.7 kmpl',\n",
       "       '0.0 kmpl', '13.5 kmpl', '25.8 kmpl', '28.4 kmpl', '20.45 kmpl',\n",
       "       '14.84 kmpl', '22.69 kmpl', '23.65 kmpl', '13.53 kmpl',\n",
       "       '18.5 kmpl', '14.4 kmpl', '20.92 kmpl', '17.5 kmpl', '12.8 kmpl',\n",
       "       '19.01 kmpl', '14.53 kmpl', '11.18 kmpl', '12.4 kmpl',\n",
       "       '16.09 kmpl', '14.0 kmpl', '24.3 kmpl', '18.15 kmpl', '11.74 kmpl',\n",
       "       '22.07 kmpl', '19.7 kmpl', '25.4 kmpl', '25.32 kmpl', '14.62 kmpl',\n",
       "       '14.28 kmpl', '14.9 kmpl', '11.25 kmpl', '24.4 kmpl', '16.55 kmpl',\n",
       "       '17.11 kmpl', '22.9 kmpl', '17.8 kmpl', '18.9 kmpl', '15.04 kmpl',\n",
       "       '25.17 kmpl', '20.36 kmpl', '13.29 kmpl', '13.68 kmpl',\n",
       "       '20.0 kmpl', '15.8 kmpl', '25.0 kmpl', '16.4 kmpl', '24.52 kmpl',\n",
       "       '22.1 kmpl', '8.5 kmpl', '15.1 kmpl', '16.95 kmpl', '19.64 kmpl',\n",
       "       '16.5 kmpl', '18.53 kmpl', '17.57 kmpl', '18.0 kmpl', '23.2 kmpl',\n",
       "       '16.73 kmpl', '17.0 kmpl', '13.0 kmpl', '17.68 kmpl', '22.7 kmpl',\n",
       "       '16.2 kmpl', '15.26 kmpl', '23.0 kmpl', '19.83 kmpl', '14.94 kmpl',\n",
       "       '17.71 kmpl', '14.74 kmpl', '16.0 kmpl', '22.32 kmpl',\n",
       "       '12.99 kmpl', '23.3 kmpl', '19.15 kmpl', '10.8 kmpl', '15.0 kmpl',\n",
       "       '22.0 kmpl', '21.9 kmpl', '12.05 kmpl', '11.7 kmpl', '21.21 kmpl',\n",
       "       '20.73 kmpl', '21.1 kmpl', '24.07 kmpl', '19.0 kmpl', '20.58 kmpl',\n",
       "       '19.27 kmpl', '11.5 kmpl', '18.6 kmpl', '21.14 kmpl', '11.05 kmpl',\n",
       "       '21.76 kmpl', '7.81 kmpl', '21.66 kmpl', '17.2 kmpl', '20.63 kmpl',\n",
       "       '19.4 kmpl', '14.8 kmpl', '26.0 kmpl', '20.4 kmpl', '21.5 kmpl',\n",
       "       '15.3 kmpl', '17.9 kmpl', '16.6 kmpl', '22.54 kmpl', '25.44 kmpl',\n",
       "       '13.7 kmpl', '22.48 kmpl', '12.9 kmpl', '19.98 kmpl', '21.4 kmpl',\n",
       "       '19.81 kmpl', '15.4 kmpl', '25.47 kmpl', '19.87 kmpl',\n",
       "       '17.45 kmpl', '14.7 kmpl', '15.64 kmpl', '15.73 kmpl',\n",
       "       '23.59 kmpl', '16.1 kmpl', '27.4 kmpl', '20.46 kmpl', '15.29 kmpl',\n",
       "       '20.51 kmpl', '11.8 kmpl', '14.3 kmpl', '14.67 kmpl', '17.19 kmpl',\n",
       "       '21.03 kmpl', '22.5 kmpl', '16.82 kmpl', '11.72 kmpl', '17.4 kmpl',\n",
       "       '17.05 kmpl', '24.0 kmpl', '28.09 kmpl', '20.5 kmpl', '13.1 kmpl',\n",
       "       '19.91 kmpl', '18.7 kmpl', '16.38 kmpl', '11.57 kmpl', '17.3 kmpl',\n",
       "       '22.95 kmpl', '18.88 kmpl', '23.4 kmpl', '22.74 kmpl',\n",
       "       '12.07 kmpl', '17.1 kmpl', '18.48 kmpl', '16.47 kmpl', '23.1 kmpl',\n",
       "       '14.07 kmpl', '16.02 kmpl', '19.3 kmpl', '17.7 kmpl', '9.52 kmpl',\n",
       "       '14.75 kmpl', '26.3 km/kg', '11.3 kmpl', '21.12 kmpl',\n",
       "       '21.02 kmpl', '14.45 kmpl', '19.33 kmpl', '13.8 kmpl', '24.7 kmpl',\n",
       "       '11.0 kmpl', '11.07 kmpl', '21.43 kmpl', '14.21 kmpl',\n",
       "       '18.86 kmpl', '16.07 kmpl', '13.49 kmpl', '20.38 kmpl',\n",
       "       '12.0 kmpl', '17.01 kmpl', '13.2 kmpl', '20.37 kmpl', '15.1 km/kg',\n",
       "       '15.96 kmpl', '14.16 kmpl', '13.17 kmpl', '27.62 kmpl',\n",
       "       '25.1 kmpl', '15.17 kmpl', '11.33 kmpl', '17.92 kmpl',\n",
       "       '12.55 kmpl', '12.6 kmpl', '17.72 kmpl', '18.16 kmpl',\n",
       "       '15.68 kmpl', '15.5 kmpl', '12.1 kmpl', '14.83 kmpl', '17.6 kmpl',\n",
       "       '14.6 kmpl', '14.66 kmpl', '10.93 kmpl', '20.68 kmpl', '9.9 kmpl',\n",
       "       '21.13 kmpl', '20.14 kmpl', '19.2 kmpl', '27.3 kmpl', '16.36 kmpl',\n",
       "       '26.59 kmpl', '12.5 kmpl', '13.6 kmpl', '15.06 kmpl', '10.13 kmpl',\n",
       "       '17.21 kmpl', '15.97 kmpl', '10.5 kmpl', '14.69 kmpl', '23.9 kmpl',\n",
       "       '19.1 kmpl', '21.27 kmpl', '15.9 kmpl', '20.7 kmpl', '14.1 kmpl',\n",
       "       '20.89 kmpl', '18.12 kmpl', '12.3 kmpl', '19.71 kmpl', '9.43 kmpl',\n",
       "       '13.4 kmpl', '13.14 kmpl', '18.1 kmpl', '22.77 kmpl', '14.49 kmpl',\n",
       "       '12.39 kmpl', '10.91 kmpl', '20.85 kmpl', '15.63 kmpl',\n",
       "       '27.39 kmpl', '18.3 kmpl', '16.78 kmpl', '25.5 kmpl', '10.0 kmpl',\n",
       "       '13.73 kmpl', '24.2 kmpl', '14.02 kmpl', '26.83 km/kg',\n",
       "       '16.77 kmpl', '24.5 kmpl', '20.34 kmpl', '21.7 kmpl', '9.7 kmpl',\n",
       "       '14.33 kmpl', '21.64 kmpl', '13.2 km/kg', '19.16 kmpl',\n",
       "       '16.93 kmpl', '9.0 kmpl', '26.2 km/kg', '16.3 kmpl', '12.62 kmpl',\n",
       "       '17.3 km/kg', '20.64 kmpl', '14.24 kmpl', '18.06 kmpl',\n",
       "       '10.2 kmpl', '10.1 kmpl', '18.25 kmpl', '13.93 kmpl', '25.83 kmpl',\n",
       "       '8.6 kmpl', '13.24 kmpl', '17.09 kmpl', '23.84 kmpl', '8.45 kmpl',\n",
       "       '19.6 kmpl', '19.5 kmpl', '20.3 kmpl', '16.05 kmpl', '11.2 kmpl',\n",
       "       '27.03 kmpl', '18.78 kmpl', '12.35 kmpl', '14.59 kmpl',\n",
       "       '17.32 kmpl', '14.95 kmpl', '13.22 kmpl', '23.03 kmpl',\n",
       "       '33.44 km/kg', '15.6 kmpl', '19.12 kmpl', '10.98 kmpl',\n",
       "       '33.54 km/kg', '16.46 kmpl', '18.4 kmpl', '11.1 kmpl',\n",
       "       '13.01 kmpl', '18.8 kmpl', '16.52 kmpl', '18.44 kmpl',\n",
       "       '19.49 kmpl', '23.5 kmpl', '23.8 kmpl', '12.65 kmpl', '20.65 kmpl',\n",
       "       '21.72 kmpl', '12.19 kmpl', '26.1 kmpl', '18.33 kmpl',\n",
       "       '12.81 kmpl', '17.5 km/kg', '17.06 kmpl', '17.67 kmpl',\n",
       "       '19.34 kmpl', '8.3 kmpl', '16.96 kmpl', '11.79 kmpl', '20.86 kmpl',\n",
       "       '16.98 kmpl', '11.68 kmpl', '15.74 kmpl', '15.7 kmpl',\n",
       "       '18.49 kmpl', '10.9 kmpl', '19.59 kmpl', '11.4 kmpl', '13.06 kmpl',\n",
       "       '21.0 kmpl', '15.15 kmpl', '16.9 kmpl', '18.23 kmpl', '25.0 km/kg',\n",
       "       '17.16 kmpl', '17.43 kmpl', '19.08 kmpl', '18.56 kmpl',\n",
       "       '11.9 kmpl', '24.6 km/kg', '21.79 kmpl', '12.95 kmpl', '25.6 kmpl',\n",
       "       '13.45 km/kg', '26.21 kmpl', '13.58 kmpl', '16.25 kmpl',\n",
       "       '10.4 kmpl', '17.44 kmpl', '19.2 km/kg', '22.71 kmpl',\n",
       "       '17.54 kmpl', '22.1 km/kg', '17.0 km/kg', '15.87 kmpl', '9.5 kmpl',\n",
       "       '11.56 kmpl', '14.39 kmpl', '19.09 kmpl', '17.85 kmpl',\n",
       "       '31.79 km/kg', '18.18 kmpl', '21.19 kmpl', '21.8 kmpl',\n",
       "       '15.42 kmpl', '14.47 kmpl', '19.69 kmpl', '12.83 kmpl', '8.0 kmpl',\n",
       "       '22.8 km/kg', '12.63 kmpl', '14.57 kmpl', '27.28 kmpl',\n",
       "       '15.41 kmpl', '32.26 km/kg', '18.19 kmpl', '13.33 kmpl',\n",
       "       '16.7 kmpl', '17.84 kmpl', '20.0 km/kg', '23.19 kmpl',\n",
       "       '11.49 kmpl', '18.51 kmpl', '13.44 kmpl', '8.7 kmpl', '8.77 kmpl',\n",
       "       '17.97 kmpl', '23.57 kmpl', '12.37 kmpl', '9.1 kmpl', '12.51 kmpl',\n",
       "       '19.44 kmpl', '21.38 kmpl', '16.51 kmpl', '24.8 kmpl',\n",
       "       '14.42 kmpl', '14.53 km/kg', '26.8 kmpl', '24.04 kmpl', '9.8 kmpl',\n",
       "       '19.68 kmpl', '21.4 km/kg', '21.2 kmpl', '19.72 kmpl', '14.2 kmpl',\n",
       "       '12.98 kmpl', '23.01 kmpl', '16.12 kmpl', '9.3 kmpl', '15.85 kmpl',\n",
       "       nan, '17.88 kmpl', '10.6 kmpl', '11.78 kmpl', '7.94 kmpl',\n",
       "       '25.01 kmpl', '8.1 kmpl', '13.9 kmpl', '11.62 kmpl', '20.62 kmpl',\n",
       "       '15.11 kmpl', '10.37 kmpl', '18.59 kmpl', '9.74 kmpl',\n",
       "       '14.81 kmpl', '8.2 kmpl', '12.97 kmpl', '7.5 kmpl', '30.46 km/kg',\n",
       "       '6.4 kmpl', '12.85 kmpl', '18.69 kmpl', '17.24 kmpl'], dtype=object)"
      ]
     },
     "execution_count": 24,
     "metadata": {},
     "output_type": "execute_result"
    }
   ],
   "source": [
    "car_data['Mileage'].unique()"
   ]
  },
  {
   "cell_type": "markdown",
   "metadata": {},
   "source": [
    "From the above information, we can say that there are more kmpl values rather than km/kg hence convert all km/kg to kmpl values"
   ]
  },
  {
   "cell_type": "markdown",
   "metadata": {},
   "source": [
    "first assumption, 1km/kg = 1kmpl"
   ]
  },
  {
   "cell_type": "markdown",
   "metadata": {},
   "source": [
    "Removing all km/kg and kmpl values at the end"
   ]
  },
  {
   "cell_type": "code",
   "execution_count": 25,
   "metadata": {},
   "outputs": [],
   "source": [
    "car_data['Mileage'] = car_data['Mileage'].str.replace(r'km/kg', '')"
   ]
  },
  {
   "cell_type": "code",
   "execution_count": 26,
   "metadata": {},
   "outputs": [
    {
     "data": {
      "text/plain": [
       "Name\n",
       "Maruti Wagon R LXI CNG                   26.6 \n",
       "Hyundai Creta 1.6 CRDi SX Option    19.67 kmpl\n",
       "Honda Jazz V                         18.2 kmpl\n",
       "Maruti Ertiga VDI                   20.77 kmpl\n",
       "Audi A4 New 2.0 TDI Multitronic      15.2 kmpl\n",
       "Name: Mileage, dtype: object"
      ]
     },
     "execution_count": 26,
     "metadata": {},
     "output_type": "execute_result"
    }
   ],
   "source": [
    "car_data.Mileage.head()"
   ]
  },
  {
   "cell_type": "code",
   "execution_count": 27,
   "metadata": {},
   "outputs": [],
   "source": [
    "car_data['Mileage'] = car_data['Mileage'].str.replace(r'kmpl', '')"
   ]
  },
  {
   "cell_type": "code",
   "execution_count": 28,
   "metadata": {},
   "outputs": [
    {
     "data": {
      "text/plain": [
       "Name\n",
       "Maruti Wagon R LXI CNG               26.6 \n",
       "Hyundai Creta 1.6 CRDi SX Option    19.67 \n",
       "Honda Jazz V                         18.2 \n",
       "Maruti Ertiga VDI                   20.77 \n",
       "Audi A4 New 2.0 TDI Multitronic      15.2 \n",
       "Name: Mileage, dtype: object"
      ]
     },
     "execution_count": 28,
     "metadata": {},
     "output_type": "execute_result"
    }
   ],
   "source": [
    "car_data.Mileage.head()"
   ]
  },
  {
   "cell_type": "code",
   "execution_count": 29,
   "metadata": {},
   "outputs": [
    {
     "data": {
      "text/plain": [
       "2"
      ]
     },
     "execution_count": 29,
     "metadata": {},
     "output_type": "execute_result"
    }
   ],
   "source": [
    "car_data.Mileage.isnull().sum()"
   ]
  },
  {
   "cell_type": "code",
   "execution_count": 30,
   "metadata": {},
   "outputs": [],
   "source": [
    "car_data['Mileage'] = car_data['Mileage'].astype(float)"
   ]
  },
  {
   "cell_type": "code",
   "execution_count": 31,
   "metadata": {},
   "outputs": [],
   "source": [
    "car_data['Mileage'].fillna(car_data.Mileage.mean(), inplace = True)"
   ]
  },
  {
   "cell_type": "code",
   "execution_count": 32,
   "metadata": {},
   "outputs": [
    {
     "data": {
      "text/plain": [
       "0"
      ]
     },
     "execution_count": 32,
     "metadata": {},
     "output_type": "execute_result"
    }
   ],
   "source": [
    "car_data.Mileage.isnull().sum()"
   ]
  },
  {
   "cell_type": "markdown",
   "metadata": {},
   "source": [
    "Now we have replaced the null values in mileage with mean"
   ]
  },
  {
   "cell_type": "code",
   "execution_count": 33,
   "metadata": {},
   "outputs": [
    {
     "name": "stdout",
     "output_type": "stream",
     "text": [
      "<class 'pandas.core.frame.DataFrame'>\n",
      "Index: 6019 entries, Maruti Wagon R LXI CNG to Chevrolet Beat Diesel\n",
      "Data columns (total 12 columns):\n",
      "Location             6019 non-null object\n",
      "Year                 6019 non-null int64\n",
      "Kilometers_Driven    6019 non-null int64\n",
      "Fuel_Type            6019 non-null object\n",
      "Transmission         6019 non-null object\n",
      "Owner_Type           6019 non-null object\n",
      "Mileage              6019 non-null float64\n",
      "Engine               6019 non-null float64\n",
      "Power                6019 non-null float64\n",
      "Seats                6019 non-null float64\n",
      "New_Price            824 non-null object\n",
      "Price                6019 non-null float64\n",
      "dtypes: float64(5), int64(2), object(5)\n",
      "memory usage: 611.3+ KB\n"
     ]
    }
   ],
   "source": [
    "car_data.info()"
   ]
  },
  {
   "cell_type": "markdown",
   "metadata": {},
   "source": [
    "# Treating New_Price column "
   ]
  },
  {
   "cell_type": "markdown",
   "metadata": {},
   "source": [
    "first remove the text from the column and convert string to float"
   ]
  },
  {
   "cell_type": "code",
   "execution_count": 34,
   "metadata": {},
   "outputs": [],
   "source": [
    "car_data['New_Price'] = car_data['New_Price'].str.replace(r'Lakh','')"
   ]
  },
  {
   "cell_type": "code",
   "execution_count": 35,
   "metadata": {},
   "outputs": [
    {
     "data": {
      "text/plain": [
       "Name\n",
       "Maruti Wagon R LXI CNG                NaN\n",
       "Hyundai Creta 1.6 CRDi SX Option      NaN\n",
       "Honda Jazz V                        8.61 \n",
       "Maruti Ertiga VDI                     NaN\n",
       "Audi A4 New 2.0 TDI Multitronic       NaN\n",
       "Name: New_Price, dtype: object"
      ]
     },
     "execution_count": 35,
     "metadata": {},
     "output_type": "execute_result"
    }
   ],
   "source": [
    "car_data.New_Price.head()"
   ]
  },
  {
   "cell_type": "code",
   "execution_count": 36,
   "metadata": {},
   "outputs": [
    {
     "data": {
      "text/plain": [
       "array([nan, '8.61 ', '21 ', '10.65 ', '32.01 ', '47.87 ', '10.57 ',\n",
       "       '12.33 ', '11.12 ', '23.64 ', '18.64 ', '19.34 ', '49.14 ',\n",
       "       '11.81 ', '16.65 ', '6.67 ', '6.45 ', '6.41 ', '27 ', '5.13 ',\n",
       "       '54.43 ', '9.51 ', '9.96 ', '14.44 ', '4.53 ', '95.04 ', '13.49 ',\n",
       "       '1.28 Cr', '60.88 ', '7.39 ', '69.47 ', '8.78 ', '12.74 ',\n",
       "       '10.52 ', '11.98 ', '8.54 ', '33.58 ', '9.12 ', '5.29 ', '44.28 ',\n",
       "       '20.74 ', '11.74 ', '25.52 ', '14.07 ', '95.13 ', '8.34 ', '8.85 ',\n",
       "       '25.4 ', '16.67 ', '79.43 ', '6.62 ', '1.04 Cr', '58.67 ',\n",
       "       '28.37 ', '4.48 ', '72.64 ', '36.15 ', '44.59 ', '12 ', '14.65 ',\n",
       "       '53.72 ', '33.91 ', '12.51 ', '9.74 ', '95.38 ', '60.59 ',\n",
       "       '11.28 ', '11.48 ', '11.26 ', '43.65 ', '62.07 ', '86.97 ', '1 Cr',\n",
       "       '4.74 ', '14.84 ', '49.49 ', '48.18 ', '12.34 ', '15.38 ',\n",
       "       '19.21 ', '22.95 ', '11.15 ', '10.32 ', '28.05 ', '59.77 ',\n",
       "       '15.86 ', '19.43 ', '42.12 ', '16.95 ', '15.45 ', '7.87 ', '4.7 ',\n",
       "       '15.02 ', '12.56 ', '11.33 ', '26.45 ', '10.34 ', '7.46 ',\n",
       "       '11.85 ', '10.41 ', '5.57 ', '42.48 ', '16.04 ', '9.1 ', '7.65 ',\n",
       "       '13.74 ', '5.72 ', '21.33 ', '78.76 ', '4.29 ', '10.04 ', '11.67 ',\n",
       "       '8.56 ', '4.78 ', '6.14 ', '7.3 ', '4.37 ', '4.98 ', '15.29 ',\n",
       "       '24.26 ', '75.12 ', '9.53 ', '34.6 ', '52.26 ', '70.43 ', '4.8 ',\n",
       "       '12.12 ', '19.37 ', '12.14 ', '36.69 ', '23.68 ', '55.61 ',\n",
       "       '14.1 ', '13.26 ', '11.27 ', '11.2 ', '9.46 ', '12.79 ', '15.57 ',\n",
       "       '19.86 ', '6.59 ', '6.54 ', '26.56 ', '15.05 ', '11.01 ', '11 ',\n",
       "       '7.55 ', '7.82 ', '6.32 ', '15.14 ', '15.72 ', '45.67 ', '54.7 ',\n",
       "       '22.87 ', '6.74 ', '33.09 ', '23.25 ', '19.27 ', '52.77 ', '7.92 ',\n",
       "       '7.85 ', '15.55 ', '32.45 ', '4.83 ', '7.13 ', '71.82 ', '50.97 ',\n",
       "       '10.73 ', '9.5 ', '52.46 ', '6.07 ', '5.54 ', '4.33 ', '8.63 ',\n",
       "       '6.68 ', '7.98 ', '24.82 ', '7.63 ', '22.86 ', '11.06 ', '19.39 ',\n",
       "       '21.77 ', '18.35 ', '9.19 ', '8.09 ', '1.39 Cr', '11.52 ',\n",
       "       '13.23 ', '10.06 ', '15.34 ', '24.01 ', '11.39 ', '9.79 ', '35 ',\n",
       "       '9.26 ', '8.68 ', '66.39 ', '36.45 ', '91.38 ', '53.41 ', '4.59 ',\n",
       "       '67.87 ', '9.44 ', '48.64 ', '11.69 ', '11.11 ', '6.33 ', '8.1 ',\n",
       "       '6.4 ', '7.59 ', '7 ', '7.43 ', '22.43 ', '24.02 ', '21.69 ',\n",
       "       '34.63 ', '43.31 ', '4.71 ', '1.02 Cr', '6.71 ', '34.45 ', '8.58 ',\n",
       "       '12.67 ', '11.89 ', '10.48 ', '13.59 ', '11.02 ', '41.94 ',\n",
       "       '8.94 ', '21.38 ', '12.88 ', '8.27 ', '7.37 ', '7.33 ', '23.06 ',\n",
       "       '1.4 Cr', '5.58 ', '22.46 ', '7.69 ', '9.4 ', '6.08 ', '8.36 ',\n",
       "       '1.06 Cr', '71.15 ', '6.82 ', '8.12 ', '9.78 ', '7.36 ', '38.11 ',\n",
       "       '11.75 ', '8.44 ', '16.06 ', '6.63 ', '1.27 Cr', '39.6 ', '10.91 ',\n",
       "       '25.75 ', '5.61 ', '8.05 ', '8.82 ', '17.38 ', '5.69 ', '37.51 ',\n",
       "       '5.88 ', '63.71 ', '11.47 ', '37.46 ', '7.88 ', '11.37 ', '11.3 ',\n",
       "       '92.5 ', '15.06 ', '39.57 ', '13.7 ', '11.16 ', '9.47 ', '10.17 ',\n",
       "       '8.17 ', '9.58 ', '9.14 ', '64.14 ', '16.36 ', '37.38 ', '22.74 ',\n",
       "       '33.36 ', '70.55 ', '1.13 Cr', '45.36 ', '10.13 ', '14.22 ',\n",
       "       '11.77 ', '4.05 ', '26.95 ', '4.82 ', '7.17 ', '13.58 ', '9.09 ',\n",
       "       '4.09 ', '6.83 ', '5.04 ', '43.81 ', '5.12 ', '5.71 ', '5.87 ',\n",
       "       '8.16 ', '9.72 ', '10.3 ', '4.69 ', '5.42 ', '91.23 ', '7.14 ',\n",
       "       '69.59 ', '4.61 ', '5.3 ', '7.97 ', '59.38 ', '67.1 ', '12.22 ',\n",
       "       '33.68 ', '6.96 ', '7.96 ', '20.8 ', '6.78 ', '19.91 ', '8.93 ',\n",
       "       '11.66 ', '7.35 ', '6.99 ', '23.89 ', '7.27 ', '8.84 ', '22.37 ',\n",
       "       '12.02 ', '3.95 ', '48.79 ', '4.66 ', '11.29 ', '5.35 ', '1.36 Cr',\n",
       "       '6.23 ', '47.16 ', '41.98 ', '35.29 ', '7.91 ', '5.36 ', '5.51 ',\n",
       "       '20.97 ', '34.89 ', '16.4 ', '1.66 Cr', '14.67 ', '12.57 ',\n",
       "       '9.48 ', '8.95 ', '23.19 ', '8.24 ', '8.71 ', '44.75 ', '87.57 ',\n",
       "       '8.57 ', '7.56 ', '43.07 ', '7.83 ', '6 ', '13.76 ', '14.11 ',\n",
       "       '12.47 ', '6.51 ', '7.52 ', '15.68 ', '7.45 ', '20.48 ', '15.17 ',\n",
       "       '8.13 ', '8.79 ', '14.72 ', '25.54 ', '16.84 ', '8.28 ', '23.94 ',\n",
       "       '69.37 ', '9.04 ', '55.07 ', '10.97 ', '21.72 ', '4.9 ', '10.1 ',\n",
       "       '12.53 ', '20.87 ', '5.9 ', '64.57 ', '17.21 ', '6.56 ', '47.2 ',\n",
       "       '10.14 ', '1.6 Cr', '5.44 ', '26.55 ', '8.26 ', '4.5 ', '56.97 ',\n",
       "       '11.19 ', '13.33 ', '8.75 ', '21.1 ', '10.28 ', '11.56 ', '27.07 ',\n",
       "       '4.36 ', '10.81 ', '8.55 ', '22.66 ', '4.24 ', '41.02 ', '17 ',\n",
       "       '2.3 Cr', '10.89 ', '40.62 ', '7.54 ', '30.19 ', '5.56 ', '4.43 ',\n",
       "       '37.17 ', '12.9 ', '19.18 ', '10.99 ', '12.23 ', '11.63 ',\n",
       "       '12.27 ', '3.91 ', '44.8 ', '50.4 ', '4.04 ', '11.96 ', '11.44 ',\n",
       "       '24.63 ', '50.26 ', '13.72 ', '23.14 ', '6.29 ', '8.18 ', '7.48 ',\n",
       "       '83.92 ', '36.94 ', '13.6 ', '10.7 ', '4.87 ', '92.79 ', '5.8 ',\n",
       "       '62.11 ', '10.83 ', '11.05 ', '9.99 ', '14.32 ', '6.21 ', '74.49 ',\n",
       "       '8.03 ', '1.71 Cr', '37.9 ', '32.54 ', '11.71 ', '3.98 ', '4.55 ',\n",
       "       '8.8 ', '11.13 ', '11.58 ', '10.63 ', '12.68 ', '17.7 ', '14.23 ',\n",
       "       '9.62 ', '53.14 ', '8.91 ', '10.26 ', '6.94 ', '15.59 ', '78.31 ',\n",
       "       '42.89 ', '9.56 ', '64.76 ', '99.92 ', '69.22 ', '18.45 ', '9.89 ',\n",
       "       '7.94 ', '8.73 ', '8.69 ', '42.4 ', '23.37 ', '79.78 ', '16.6 ',\n",
       "       '4.93 ', '14.2 ', '10.42 ', '9.55 ', '5.45 ', '8.38 ', '5.95 ',\n",
       "       '15.36 ', '10.94 ', '10.15 ', '9.83 ', '7.67 ', '9.97 ', '67.67 ',\n",
       "       '53.68 ', '6.05 ', '10.25 ', '8.23 ', '7.01 ', '6.8 ', '25.27 ',\n",
       "       '57.3 ', '5.68 ', '9.36 ', '38.72 ', '7.7 ', '6.43 ', '5.67 ',\n",
       "       '3.96 ', '39.27 ', '33.51 ', '15.94 ', '7.15 ', '13.4 ', '11.88 ',\n",
       "       '21.36 ', '5.92 ', '6.42 ', '8.99 ', '12.44 ', '5.77 ', '15.01 ',\n",
       "       '40.73 ', '33.21 ', '4.45 ', '20.46 ', '39.22 ', '7.77 ', '11.91 ',\n",
       "       '9.93 '], dtype=object)"
      ]
     },
     "execution_count": 36,
     "metadata": {},
     "output_type": "execute_result"
    }
   ],
   "source": [
    "car_data['New_Price'].unique()"
   ]
  },
  {
   "cell_type": "code",
   "execution_count": 50,
   "metadata": {},
   "outputs": [],
   "source": [
    "car_data['New_Price'] = car_data['New_Price'].astype(str)"
   ]
  },
  {
   "cell_type": "code",
   "execution_count": 78,
   "metadata": {},
   "outputs": [
    {
     "data": {
      "text/plain": [
       "array(['nan', '8.61 ', '21 ', '10.65 ', '32.01 ', '47.87 ', '10.57 ',\n",
       "       '12.33 ', '11.12 ', '23.64 ', '18.64 ', '19.34 ', '49.14 ',\n",
       "       '11.81 ', '16.65 ', '6.67 ', '6.45 ', '6.41 ', '27 ', '5.13 ',\n",
       "       '54.43 ', '9.51 ', '9.96 ', '14.44 ', '4.53 ', '95.04 ', '13.49 ',\n",
       "       128.0, '60.88 ', '7.39 ', '69.47 ', '8.78 ', '12.74 ', '10.52 ',\n",
       "       '11.98 ', '8.54 ', '33.58 ', '9.12 ', '5.29 ', '44.28 ', '20.74 ',\n",
       "       '11.74 ', '25.52 ', '14.07 ', '95.13 ', '8.34 ', '8.85 ', '25.4 ',\n",
       "       '16.67 ', '79.43 ', '6.62 ', 104.0, '58.67 ', '28.37 ', '4.48 ',\n",
       "       '72.64 ', '36.15 ', '44.59 ', '12 ', '14.65 ', '53.72 ', '33.91 ',\n",
       "       '12.51 ', '9.74 ', '95.38 ', '60.59 ', '11.28 ', '11.48 ',\n",
       "       '11.26 ', '43.65 ', '62.07 ', '86.97 ', 100.0, '4.74 ', '14.84 ',\n",
       "       '49.49 ', '48.18 ', '12.34 ', '15.38 ', '19.21 ', '22.95 ',\n",
       "       '11.15 ', '10.32 ', '28.05 ', '59.77 ', '15.86 ', '19.43 ',\n",
       "       '42.12 ', '16.95 ', '15.45 ', '7.87 ', '4.7 ', '15.02 ', '12.56 ',\n",
       "       '11.33 ', '26.45 ', '10.34 ', '7.46 ', '11.85 ', '10.41 ', '5.57 ',\n",
       "       '42.48 ', '16.04 ', '9.1 ', '7.65 ', '13.74 ', '5.72 ', '21.33 ',\n",
       "       '78.76 ', '4.29 ', '10.04 ', '11.67 ', '8.56 ', '4.78 ', '6.14 ',\n",
       "       '7.3 ', '4.37 ', '4.98 ', '15.29 ', '24.26 ', '75.12 ', '9.53 ',\n",
       "       '34.6 ', '52.26 ', '70.43 ', '4.8 ', '12.12 ', '19.37 ', '12.14 ',\n",
       "       '36.69 ', '23.68 ', '55.61 ', '14.1 ', '13.26 ', '11.27 ', '11.2 ',\n",
       "       '9.46 ', '12.79 ', '15.57 ', '19.86 ', '6.59 ', '6.54 ', '26.56 ',\n",
       "       '15.05 ', '11.01 ', '11 ', '7.55 ', '7.82 ', '6.32 ', '15.14 ',\n",
       "       '15.72 ', '45.67 ', '54.7 ', '22.87 ', '6.74 ', '33.09 ', '23.25 ',\n",
       "       '19.27 ', '52.77 ', '7.92 ', '7.85 ', '15.55 ', '32.45 ', '4.83 ',\n",
       "       '7.13 ', '71.82 ', '50.97 ', '10.73 ', '9.5 ', '52.46 ', '6.07 ',\n",
       "       '5.54 ', '4.33 ', '8.63 ', '6.68 ', '7.98 ', '24.82 ', '7.63 ',\n",
       "       '22.86 ', '11.06 ', '19.39 ', '21.77 ', '18.35 ', '9.19 ', '8.09 ',\n",
       "       139.0, '11.52 ', '13.23 ', '10.06 ', '15.34 ', '24.01 ', '11.39 ',\n",
       "       '9.79 ', '35 ', '9.26 ', '8.68 ', '66.39 ', '36.45 ', '91.38 ',\n",
       "       '53.41 ', '4.59 ', '67.87 ', '9.44 ', '48.64 ', '11.69 ', '11.11 ',\n",
       "       '6.33 ', '8.1 ', '6.4 ', '7.59 ', '7 ', '7.43 ', '22.43 ',\n",
       "       '24.02 ', '21.69 ', '34.63 ', '43.31 ', '4.71 ', 102.0, '6.71 ',\n",
       "       '34.45 ', '8.58 ', '12.67 ', '11.89 ', '10.48 ', '13.59 ',\n",
       "       '11.02 ', '41.94 ', '8.94 ', '21.38 ', '12.88 ', '8.27 ', '7.37 ',\n",
       "       '7.33 ', '23.06 ', 140.0, '5.58 ', '22.46 ', '7.69 ', '9.4 ',\n",
       "       '6.08 ', '8.36 ', 106.0, '71.15 ', '6.82 ', '8.12 ', '9.78 ',\n",
       "       '7.36 ', '38.11 ', '11.75 ', '8.44 ', '16.06 ', '6.63 ', 127.0,\n",
       "       '39.6 ', '10.91 ', '25.75 ', '5.61 ', '8.05 ', '8.82 ', '17.38 ',\n",
       "       '5.69 ', '37.51 ', '5.88 ', '63.71 ', '11.47 ', '37.46 ', '7.88 ',\n",
       "       '11.37 ', '11.3 ', '92.5 ', '15.06 ', '39.57 ', '13.7 ', '11.16 ',\n",
       "       '9.47 ', '10.17 ', '8.17 ', '9.58 ', '9.14 ', '64.14 ', '16.36 ',\n",
       "       '37.38 ', '22.74 ', '33.36 ', '70.55 ', 112.99999999999999,\n",
       "       '45.36 ', '10.13 ', '14.22 ', '11.77 ', '4.05 ', '26.95 ', '4.82 ',\n",
       "       '7.17 ', '13.58 ', '9.09 ', '4.09 ', '6.83 ', '5.04 ', '43.81 ',\n",
       "       '5.12 ', '5.71 ', '5.87 ', '8.16 ', '9.72 ', '10.3 ', '4.69 ',\n",
       "       '5.42 ', '91.23 ', '7.14 ', '69.59 ', '4.61 ', '5.3 ', '7.97 ',\n",
       "       '59.38 ', '67.1 ', '12.22 ', '33.68 ', '6.96 ', '7.96 ', '20.8 ',\n",
       "       '6.78 ', '19.91 ', '8.93 ', '11.66 ', '7.35 ', '6.99 ', '23.89 ',\n",
       "       '7.27 ', '8.84 ', '22.37 ', '12.02 ', '3.95 ', '48.79 ', '4.66 ',\n",
       "       '11.29 ', '5.35 ', 136.0, '6.23 ', '47.16 ', '41.98 ', '35.29 ',\n",
       "       '7.91 ', '5.36 ', '5.51 ', '20.97 ', '34.89 ', '16.4 ', 166.0,\n",
       "       '14.67 ', '12.57 ', '9.48 ', '8.95 ', '23.19 ', '8.24 ', '8.71 ',\n",
       "       '44.75 ', '87.57 ', '8.57 ', '7.56 ', '43.07 ', '7.83 ', '6 ',\n",
       "       '13.76 ', '14.11 ', '12.47 ', '6.51 ', '7.52 ', '15.68 ', '7.45 ',\n",
       "       '20.48 ', '15.17 ', '8.13 ', '8.79 ', '14.72 ', '25.54 ', '16.84 ',\n",
       "       '8.28 ', '23.94 ', '69.37 ', '9.04 ', '55.07 ', '10.97 ', '21.72 ',\n",
       "       '4.9 ', '10.1 ', '12.53 ', '20.87 ', '5.9 ', '64.57 ', '17.21 ',\n",
       "       '6.56 ', '47.2 ', '10.14 ', 160.0, '5.44 ', '26.55 ', '8.26 ',\n",
       "       '4.5 ', '56.97 ', '11.19 ', '13.33 ', '8.75 ', '21.1 ', '10.28 ',\n",
       "       '11.56 ', '27.07 ', '4.36 ', '10.81 ', '8.55 ', '22.66 ', '4.24 ',\n",
       "       '41.02 ', '17 ', 229.99999999999997, '10.89 ', '40.62 ', '7.54 ',\n",
       "       '30.19 ', '5.56 ', '4.43 ', '37.17 ', '12.9 ', '19.18 ', '10.99 ',\n",
       "       '12.23 ', '11.63 ', '12.27 ', '3.91 ', '44.8 ', '50.4 ', '4.04 ',\n",
       "       '11.96 ', '11.44 ', '24.63 ', '50.26 ', '13.72 ', '23.14 ',\n",
       "       '6.29 ', '8.18 ', '7.48 ', '83.92 ', '36.94 ', '13.6 ', '10.7 ',\n",
       "       '4.87 ', '92.79 ', '5.8 ', '62.11 ', '10.83 ', '11.05 ', '9.99 ',\n",
       "       '14.32 ', '6.21 ', '74.49 ', '8.03 ', 171.0, '37.9 ', '32.54 ',\n",
       "       '11.71 ', '3.98 ', '4.55 ', '8.8 ', '11.13 ', '11.58 ', '10.63 ',\n",
       "       '12.68 ', '17.7 ', '14.23 ', '9.62 ', '53.14 ', '8.91 ', '10.26 ',\n",
       "       '6.94 ', '15.59 ', '78.31 ', '42.89 ', '9.56 ', '64.76 ', '99.92 ',\n",
       "       '69.22 ', '18.45 ', '9.89 ', '7.94 ', '8.73 ', '8.69 ', '42.4 ',\n",
       "       '23.37 ', '79.78 ', '16.6 ', '4.93 ', '14.2 ', '10.42 ', '9.55 ',\n",
       "       '5.45 ', '8.38 ', '5.95 ', '15.36 ', '10.94 ', '10.15 ', '9.83 ',\n",
       "       '7.67 ', '9.97 ', '67.67 ', '53.68 ', '6.05 ', '10.25 ', '8.23 ',\n",
       "       '7.01 ', '6.8 ', '25.27 ', '57.3 ', '5.68 ', '9.36 ', '38.72 ',\n",
       "       '7.7 ', '6.43 ', '5.67 ', '3.96 ', '39.27 ', '33.51 ', '15.94 ',\n",
       "       '7.15 ', '13.4 ', '11.88 ', '21.36 ', '5.92 ', '6.42 ', '8.99 ',\n",
       "       '12.44 ', '5.77 ', '15.01 ', '40.73 ', '33.21 ', '4.45 ', '20.46 ',\n",
       "       '39.22 ', '7.77 ', '11.91 ', '9.93 '], dtype=object)"
      ]
     },
     "execution_count": 78,
     "metadata": {},
     "output_type": "execute_result"
    }
   ],
   "source": [
    "car_data.New_Price.unique()"
   ]
  },
  {
   "cell_type": "code",
   "execution_count": 79,
   "metadata": {},
   "outputs": [],
   "source": [
    "car_data.New_Price = car_data.New_Price.astype(float)"
   ]
  },
  {
   "cell_type": "code",
   "execution_count": 80,
   "metadata": {},
   "outputs": [
    {
     "data": {
      "text/plain": [
       "Name\n",
       "Maruti Wagon R LXI CNG                                NaN\n",
       "Hyundai Creta 1.6 CRDi SX Option                      NaN\n",
       "Honda Jazz V                                         8.61\n",
       "Maruti Ertiga VDI                                     NaN\n",
       "Audi A4 New 2.0 TDI Multitronic                       NaN\n",
       "Hyundai EON LPG Era Plus Option                       NaN\n",
       "Nissan Micra Diesel XV                                NaN\n",
       "Toyota Innova Crysta 2.8 GX AT 8S                   21.00\n",
       "Volkswagen Vento Diesel Comfortline                   NaN\n",
       "Tata Indica Vista Quadrajet LS                        NaN\n",
       "Maruti Ciaz Zeta                                    10.65\n",
       "Honda City 1.5 V AT Sunroof                           NaN\n",
       "Maruti Swift VDI BSIV                                 NaN\n",
       "Land Rover Range Rover 2.2L Pure                      NaN\n",
       "Land Rover Freelander 2 TD4 SE                        NaN\n",
       "Mitsubishi Pajero Sport 4X4                         32.01\n",
       "Honda Amaze S i-Dtech                                 NaN\n",
       "Maruti Swift DDiS VDI                                 NaN\n",
       "Renault Duster 85PS Diesel RxL Plus                   NaN\n",
       "Mercedes-Benz New C-Class C 220 CDI BE Avantgare      NaN\n",
       "BMW 3 Series 320d                                   47.87\n",
       "Maruti S Cross DDiS 200 Alpha                         NaN\n",
       "Audi A6 2011-2015 35 TFSI Technology                  NaN\n",
       "Hyundai i20 1.2 Magna                                 NaN\n",
       "Volkswagen Vento Petrol Highline AT                   NaN\n",
       "Honda City Corporate Edition                          NaN\n",
       "Nissan Micra Diesel XV                                NaN\n",
       "Maruti Alto K10 2010-2014 VXI                         NaN\n",
       "Honda WRV i-VTEC VX                                 10.57\n",
       "Toyota Innova 2.5 V Diesel 7-seater                   NaN\n",
       "                                                    ...  \n",
       "Audi A4 35 TDI Premium Plus                         53.14\n",
       "Tata New Safari DICOR 2.2 VX 4x2                      NaN\n",
       "Maruti Swift VDI                                      NaN\n",
       "Skoda Superb Elegance 1.8 TSI AT                      NaN\n",
       "Hyundai Elantra SX                                    NaN\n",
       "Honda City 1.5 E MT                                   NaN\n",
       "Renault Duster 85PS Diesel RxL Explore                NaN\n",
       "Jaguar XF 2.2 Litre Luxury                            NaN\n",
       "Maruti Wagon R Duo Lxi                                NaN\n",
       "Volkswagen Polo IPL II 1.2 Petrol Highline            NaN\n",
       "Tata Bolt Revotron XT                                7.77\n",
       "Hyundai i20 Sportz 1.2                                NaN\n",
       "Audi A6 2011-2015 2.0 TDI                             NaN\n",
       "Volkswagen Vento 1.6 Highline                       11.91\n",
       "Maruti Celerio VXI                                    NaN\n",
       "Hyundai Getz GLE                                      NaN\n",
       "Maruti Vitara Brezza VDi                             9.93\n",
       "Mercedes-Benz M-Class ML 320 CDI                      NaN\n",
       "Maruti Swift Dzire Vdi BSIV                           NaN\n",
       "Porsche Panamera Diesel                               NaN\n",
       "Toyota Camry Hybrid                                   NaN\n",
       "Honda Brio 1.2 VX MT                                 6.63\n",
       "Skoda Superb 3.6 V6 FSI                               NaN\n",
       "Toyota Innova 2.5 V Diesel 7-seater                   NaN\n",
       "Honda Amaze VX i-DTEC                                 NaN\n",
       "Maruti Swift VDI                                     7.88\n",
       "Hyundai Xcent 1.1 CRDi S                              NaN\n",
       "Mahindra Xylo D4 BSIV                                 NaN\n",
       "Maruti Wagon R VXI                                    NaN\n",
       "Chevrolet Beat Diesel                                 NaN\n",
       "Name: New_Price, Length: 6019, dtype: float64"
      ]
     },
     "execution_count": 80,
     "metadata": {},
     "output_type": "execute_result"
    }
   ],
   "source": [
    "car_data.New_Price"
   ]
  },
  {
   "cell_type": "code",
   "execution_count": 81,
   "metadata": {},
   "outputs": [],
   "source": [
    "#car_data['New_Price'] = car_data['New_Price'].astype(float)"
   ]
  },
  {
   "cell_type": "markdown",
   "metadata": {},
   "source": [
    "replacing the null values with mean"
   ]
  },
  {
   "cell_type": "code",
   "execution_count": 82,
   "metadata": {},
   "outputs": [],
   "source": [
    "car_data['New_Price'].fillna(car_data.New_Price.mean(), inplace = True)"
   ]
  },
  {
   "cell_type": "code",
   "execution_count": 83,
   "metadata": {},
   "outputs": [
    {
     "data": {
      "text/plain": [
       "Name\n",
       "Maruti Wagon R LXI CNG              23.075655\n",
       "Hyundai Creta 1.6 CRDi SX Option    23.075655\n",
       "Honda Jazz V                         8.610000\n",
       "Maruti Ertiga VDI                   23.075655\n",
       "Audi A4 New 2.0 TDI Multitronic     23.075655\n",
       "Name: New_Price, dtype: float64"
      ]
     },
     "execution_count": 83,
     "metadata": {},
     "output_type": "execute_result"
    }
   ],
   "source": [
    "car_data['New_Price'].head()"
   ]
  },
  {
   "cell_type": "code",
   "execution_count": 84,
   "metadata": {},
   "outputs": [
    {
     "name": "stdout",
     "output_type": "stream",
     "text": [
      "<class 'pandas.core.frame.DataFrame'>\n",
      "Index: 6019 entries, Maruti Wagon R LXI CNG to Chevrolet Beat Diesel\n",
      "Data columns (total 12 columns):\n",
      "Location             6019 non-null object\n",
      "Year                 6019 non-null int64\n",
      "Kilometers_Driven    6019 non-null int64\n",
      "Fuel_Type            6019 non-null object\n",
      "Transmission         6019 non-null object\n",
      "Owner_Type           6019 non-null object\n",
      "Mileage              6019 non-null float64\n",
      "Engine               6019 non-null float64\n",
      "Power                6019 non-null float64\n",
      "Seats                6019 non-null float64\n",
      "New_Price            6019 non-null float64\n",
      "Price                6019 non-null float64\n",
      "dtypes: float64(6), int64(2), object(4)\n",
      "memory usage: 771.3+ KB\n"
     ]
    }
   ],
   "source": [
    "car_data.info()"
   ]
  },
  {
   "cell_type": "markdown",
   "metadata": {},
   "source": [
    "# Performing statistical analysis "
   ]
  },
  {
   "cell_type": "code",
   "execution_count": 85,
   "metadata": {},
   "outputs": [
    {
     "data": {
      "text/html": [
       "<div>\n",
       "<style scoped>\n",
       "    .dataframe tbody tr th:only-of-type {\n",
       "        vertical-align: middle;\n",
       "    }\n",
       "\n",
       "    .dataframe tbody tr th {\n",
       "        vertical-align: top;\n",
       "    }\n",
       "\n",
       "    .dataframe thead th {\n",
       "        text-align: right;\n",
       "    }\n",
       "</style>\n",
       "<table border=\"1\" class=\"dataframe\">\n",
       "  <thead>\n",
       "    <tr style=\"text-align: right;\">\n",
       "      <th></th>\n",
       "      <th>Year</th>\n",
       "      <th>Kilometers_Driven</th>\n",
       "      <th>Mileage</th>\n",
       "      <th>Engine</th>\n",
       "      <th>Power</th>\n",
       "      <th>Seats</th>\n",
       "      <th>New_Price</th>\n",
       "      <th>Price</th>\n",
       "    </tr>\n",
       "  </thead>\n",
       "  <tbody>\n",
       "    <tr>\n",
       "      <th>count</th>\n",
       "      <td>6019.000000</td>\n",
       "      <td>6.019000e+03</td>\n",
       "      <td>6019.000000</td>\n",
       "      <td>6019.000000</td>\n",
       "      <td>6019.000000</td>\n",
       "      <td>6019.000000</td>\n",
       "      <td>6019.000000</td>\n",
       "      <td>6019.000000</td>\n",
       "    </tr>\n",
       "    <tr>\n",
       "      <th>mean</th>\n",
       "      <td>2013.358199</td>\n",
       "      <td>5.873838e+04</td>\n",
       "      <td>18.134961</td>\n",
       "      <td>1621.276450</td>\n",
       "      <td>111.227632</td>\n",
       "      <td>5.278735</td>\n",
       "      <td>23.075655</td>\n",
       "      <td>9.479468</td>\n",
       "    </tr>\n",
       "    <tr>\n",
       "      <th>std</th>\n",
       "      <td>3.269742</td>\n",
       "      <td>9.126884e+04</td>\n",
       "      <td>4.581528</td>\n",
       "      <td>599.553865</td>\n",
       "      <td>55.294789</td>\n",
       "      <td>0.806012</td>\n",
       "      <td>9.682410</td>\n",
       "      <td>11.187917</td>\n",
       "    </tr>\n",
       "    <tr>\n",
       "      <th>min</th>\n",
       "      <td>1998.000000</td>\n",
       "      <td>1.710000e+02</td>\n",
       "      <td>0.000000</td>\n",
       "      <td>72.000000</td>\n",
       "      <td>0.000000</td>\n",
       "      <td>0.000000</td>\n",
       "      <td>3.910000</td>\n",
       "      <td>0.440000</td>\n",
       "    </tr>\n",
       "    <tr>\n",
       "      <th>25%</th>\n",
       "      <td>2011.000000</td>\n",
       "      <td>3.400000e+04</td>\n",
       "      <td>15.170000</td>\n",
       "      <td>1198.000000</td>\n",
       "      <td>74.000000</td>\n",
       "      <td>5.000000</td>\n",
       "      <td>23.075655</td>\n",
       "      <td>3.500000</td>\n",
       "    </tr>\n",
       "    <tr>\n",
       "      <th>50%</th>\n",
       "      <td>2014.000000</td>\n",
       "      <td>5.300000e+04</td>\n",
       "      <td>18.150000</td>\n",
       "      <td>1493.000000</td>\n",
       "      <td>93.700000</td>\n",
       "      <td>5.000000</td>\n",
       "      <td>23.075655</td>\n",
       "      <td>5.640000</td>\n",
       "    </tr>\n",
       "    <tr>\n",
       "      <th>75%</th>\n",
       "      <td>2016.000000</td>\n",
       "      <td>7.300000e+04</td>\n",
       "      <td>21.100000</td>\n",
       "      <td>1969.000000</td>\n",
       "      <td>138.030000</td>\n",
       "      <td>5.000000</td>\n",
       "      <td>23.075655</td>\n",
       "      <td>9.950000</td>\n",
       "    </tr>\n",
       "    <tr>\n",
       "      <th>max</th>\n",
       "      <td>2019.000000</td>\n",
       "      <td>6.500000e+06</td>\n",
       "      <td>33.540000</td>\n",
       "      <td>5998.000000</td>\n",
       "      <td>560.000000</td>\n",
       "      <td>10.000000</td>\n",
       "      <td>230.000000</td>\n",
       "      <td>160.000000</td>\n",
       "    </tr>\n",
       "  </tbody>\n",
       "</table>\n",
       "</div>"
      ],
      "text/plain": [
       "              Year  Kilometers_Driven      Mileage       Engine        Power  \\\n",
       "count  6019.000000       6.019000e+03  6019.000000  6019.000000  6019.000000   \n",
       "mean   2013.358199       5.873838e+04    18.134961  1621.276450   111.227632   \n",
       "std       3.269742       9.126884e+04     4.581528   599.553865    55.294789   \n",
       "min    1998.000000       1.710000e+02     0.000000    72.000000     0.000000   \n",
       "25%    2011.000000       3.400000e+04    15.170000  1198.000000    74.000000   \n",
       "50%    2014.000000       5.300000e+04    18.150000  1493.000000    93.700000   \n",
       "75%    2016.000000       7.300000e+04    21.100000  1969.000000   138.030000   \n",
       "max    2019.000000       6.500000e+06    33.540000  5998.000000   560.000000   \n",
       "\n",
       "             Seats    New_Price        Price  \n",
       "count  6019.000000  6019.000000  6019.000000  \n",
       "mean      5.278735    23.075655     9.479468  \n",
       "std       0.806012     9.682410    11.187917  \n",
       "min       0.000000     3.910000     0.440000  \n",
       "25%       5.000000    23.075655     3.500000  \n",
       "50%       5.000000    23.075655     5.640000  \n",
       "75%       5.000000    23.075655     9.950000  \n",
       "max      10.000000   230.000000   160.000000  "
      ]
     },
     "execution_count": 85,
     "metadata": {},
     "output_type": "execute_result"
    }
   ],
   "source": [
    "car_data.describe()"
   ]
  },
  {
   "cell_type": "markdown",
   "metadata": {},
   "source": [
    "Plotting box plot to detect outliers"
   ]
  },
  {
   "cell_type": "code",
   "execution_count": 86,
   "metadata": {},
   "outputs": [
    {
     "data": {
      "text/plain": [
       "<matplotlib.axes._subplots.AxesSubplot at 0x93f4a5b0f0>"
      ]
     },
     "execution_count": 86,
     "metadata": {},
     "output_type": "execute_result"
    },
    {
     "data": {
      "image/png": "[encoded data removed]",
      "text/plain": [
       "<Figure size 432x288 with 1 Axes>"
      ]
     },
     "metadata": {
      "needs_background": "light"
     },
     "output_type": "display_data"
    }
   ],
   "source": [
    "car_data.boxplot(column=['Mileage'])"
   ]
  },
  {
   "cell_type": "code",
   "execution_count": 87,
   "metadata": {},
   "outputs": [
    {
     "data": {
      "text/plain": [
       "<matplotlib.axes._subplots.AxesSubplot at 0x93f4b53048>"
      ]
     },
     "execution_count": 87,
     "metadata": {},
     "output_type": "execute_result"
    },
    {
     "data": {
      "image/png": "[encoded data removed]",
      "text/plain": [
       "<Figure size 432x288 with 1 Axes>"
      ]
     },
     "metadata": {
      "needs_background": "light"
     },
     "output_type": "display_data"
    }
   ],
   "source": [
    "car_data.boxplot(column=['Year'])"
   ]
  },
  {
   "cell_type": "code",
   "execution_count": 88,
   "metadata": {},
   "outputs": [
    {
     "data": {
      "text/plain": [
       "<matplotlib.axes._subplots.AxesSubplot at 0x93f874b710>"
      ]
     },
     "execution_count": 88,
     "metadata": {},
     "output_type": "execute_result"
    },
    {
     "data": {
      "image/png": "[encoded data removed]",
      "text/plain": [
       "<Figure size 432x288 with 1 Axes>"
      ]
     },
     "metadata": {
      "needs_background": "light"
     },
     "output_type": "display_data"
    }
   ],
   "source": [
    "car_data.boxplot(column=['New_Price'])"
   ]
  },
  {
   "cell_type": "code",
   "execution_count": 89,
   "metadata": {},
   "outputs": [
    {
     "data": {
      "text/plain": [
       "<matplotlib.axes._subplots.AxesSubplot at 0x93f87aa588>"
      ]
     },
     "execution_count": 89,
     "metadata": {},
     "output_type": "execute_result"
    },
    {
     "data": {
      "image/png": "[encoded data removed]",
      "text/plain": [
       "<Figure size 432x288 with 1 Axes>"
      ]
     },
     "metadata": {
      "needs_background": "light"
     },
     "output_type": "display_data"
    }
   ],
   "source": [
    "car_data.boxplot(column=['Engine'])"
   ]
  },
  {
   "cell_type": "code",
   "execution_count": 90,
   "metadata": {},
   "outputs": [
    {
     "data": {
      "text/plain": [
       "<matplotlib.axes._subplots.AxesSubplot at 0x93f8809358>"
      ]
     },
     "execution_count": 90,
     "metadata": {},
     "output_type": "execute_result"
    },
    {
     "data": {
      "image/png": "[encoded data removed]",
      "text/plain": [
       "<Figure size 432x288 with 1 Axes>"
      ]
     },
     "metadata": {
      "needs_background": "light"
     },
     "output_type": "display_data"
    }
   ],
   "source": [
    "car_data.boxplot(column=['Power'])"
   ]
  },
  {
   "cell_type": "code",
   "execution_count": 93,
   "metadata": {},
   "outputs": [
    {
     "data": {
      "text/plain": [
       "<matplotlib.axes._subplots.AxesSubplot at 0x93fa014e10>"
      ]
     },
     "execution_count": 93,
     "metadata": {},
     "output_type": "execute_result"
    },
    {
     "data": {
      "image/png": "[encoded data removed]",
      "text/plain": [
       "<Figure size 432x288 with 1 Axes>"
      ]
     },
     "metadata": {
      "needs_background": "light"
     },
     "output_type": "display_data"
    }
   ],
   "source": [
    "car_data.boxplot(column=['Kilometers_Driven'])"
   ]
  },
  {
   "cell_type": "markdown",
   "metadata": {},
   "source": [
    "# Calculating correlation"
   ]
  },
  {
   "cell_type": "code",
   "execution_count": 98,
   "metadata": {},
   "outputs": [
    {
     "data": {
      "text/html": [
       "<div>\n",
       "<style scoped>\n",
       "    .dataframe tbody tr th:only-of-type {\n",
       "        vertical-align: middle;\n",
       "    }\n",
       "\n",
       "    .dataframe tbody tr th {\n",
       "        vertical-align: top;\n",
       "    }\n",
       "\n",
       "    .dataframe thead th {\n",
       "        text-align: right;\n",
       "    }\n",
       "</style>\n",
       "<table border=\"1\" class=\"dataframe\">\n",
       "  <thead>\n",
       "    <tr style=\"text-align: right;\">\n",
       "      <th></th>\n",
       "      <th>Year</th>\n",
       "      <th>Kilometers_Driven</th>\n",
       "      <th>Mileage</th>\n",
       "      <th>Engine</th>\n",
       "      <th>Power</th>\n",
       "      <th>Seats</th>\n",
       "      <th>New_Price</th>\n",
       "      <th>Price</th>\n",
       "    </tr>\n",
       "  </thead>\n",
       "  <tbody>\n",
       "    <tr>\n",
       "      <th>Year</th>\n",
       "      <td>1.000000</td>\n",
       "      <td>-0.173048</td>\n",
       "      <td>0.321534</td>\n",
       "      <td>-0.051712</td>\n",
       "      <td>0.070520</td>\n",
       "      <td>0.012204</td>\n",
       "      <td>-0.005758</td>\n",
       "      <td>0.305327</td>\n",
       "    </tr>\n",
       "    <tr>\n",
       "      <th>Kilometers_Driven</th>\n",
       "      <td>-0.173048</td>\n",
       "      <td>1.000000</td>\n",
       "      <td>-0.065253</td>\n",
       "      <td>0.091029</td>\n",
       "      <td>0.024197</td>\n",
       "      <td>0.083072</td>\n",
       "      <td>-0.000903</td>\n",
       "      <td>-0.011493</td>\n",
       "    </tr>\n",
       "    <tr>\n",
       "      <th>Mileage</th>\n",
       "      <td>0.321534</td>\n",
       "      <td>-0.065253</td>\n",
       "      <td>1.000000</td>\n",
       "      <td>-0.588354</td>\n",
       "      <td>-0.444878</td>\n",
       "      <td>-0.303086</td>\n",
       "      <td>-0.140928</td>\n",
       "      <td>-0.306588</td>\n",
       "    </tr>\n",
       "    <tr>\n",
       "      <th>Engine</th>\n",
       "      <td>-0.051712</td>\n",
       "      <td>0.091029</td>\n",
       "      <td>-0.588354</td>\n",
       "      <td>1.000000</td>\n",
       "      <td>0.840934</td>\n",
       "      <td>0.393087</td>\n",
       "      <td>0.251990</td>\n",
       "      <td>0.657118</td>\n",
       "    </tr>\n",
       "    <tr>\n",
       "      <th>Power</th>\n",
       "      <td>0.070520</td>\n",
       "      <td>0.024197</td>\n",
       "      <td>-0.444878</td>\n",
       "      <td>0.840934</td>\n",
       "      <td>1.000000</td>\n",
       "      <td>0.108583</td>\n",
       "      <td>0.324198</td>\n",
       "      <td>0.757711</td>\n",
       "    </tr>\n",
       "    <tr>\n",
       "      <th>Seats</th>\n",
       "      <td>0.012204</td>\n",
       "      <td>0.083072</td>\n",
       "      <td>-0.303086</td>\n",
       "      <td>0.393087</td>\n",
       "      <td>0.108583</td>\n",
       "      <td>1.000000</td>\n",
       "      <td>-0.003523</td>\n",
       "      <td>0.052118</td>\n",
       "    </tr>\n",
       "    <tr>\n",
       "      <th>New_Price</th>\n",
       "      <td>-0.005758</td>\n",
       "      <td>-0.000903</td>\n",
       "      <td>-0.140928</td>\n",
       "      <td>0.251990</td>\n",
       "      <td>0.324198</td>\n",
       "      <td>-0.003523</td>\n",
       "      <td>1.000000</td>\n",
       "      <td>0.427992</td>\n",
       "    </tr>\n",
       "    <tr>\n",
       "      <th>Price</th>\n",
       "      <td>0.305327</td>\n",
       "      <td>-0.011493</td>\n",
       "      <td>-0.306588</td>\n",
       "      <td>0.657118</td>\n",
       "      <td>0.757711</td>\n",
       "      <td>0.052118</td>\n",
       "      <td>0.427992</td>\n",
       "      <td>1.000000</td>\n",
       "    </tr>\n",
       "  </tbody>\n",
       "</table>\n",
       "</div>"
      ],
      "text/plain": [
       "                       Year  Kilometers_Driven   Mileage    Engine     Power  \\\n",
       "Year               1.000000          -0.173048  0.321534 -0.051712  0.070520   \n",
       "Kilometers_Driven -0.173048           1.000000 -0.065253  0.091029  0.024197   \n",
       "Mileage            0.321534          -0.065253  1.000000 -0.588354 -0.444878   \n",
       "Engine            -0.051712           0.091029 -0.588354  1.000000  0.840934   \n",
       "Power              0.070520           0.024197 -0.444878  0.840934  1.000000   \n",
       "Seats              0.012204           0.083072 -0.303086  0.393087  0.108583   \n",
       "New_Price         -0.005758          -0.000903 -0.140928  0.251990  0.324198   \n",
       "Price              0.305327          -0.011493 -0.306588  0.657118  0.757711   \n",
       "\n",
       "                      Seats  New_Price     Price  \n",
       "Year               0.012204  -0.005758  0.305327  \n",
       "Kilometers_Driven  0.083072  -0.000903 -0.011493  \n",
       "Mileage           -0.303086  -0.140928 -0.306588  \n",
       "Engine             0.393087   0.251990  0.657118  \n",
       "Power              0.108583   0.324198  0.757711  \n",
       "Seats              1.000000  -0.003523  0.052118  \n",
       "New_Price         -0.003523   1.000000  0.427992  \n",
       "Price              0.052118   0.427992  1.000000  "
      ]
     },
     "execution_count": 98,
     "metadata": {},
     "output_type": "execute_result"
    }
   ],
   "source": [
    "car_data.corr()"
   ]
  },
  {
   "cell_type": "markdown",
   "metadata": {},
   "source": [
    "# Observations\n",
    "* Kilometers driven and mileage are having a negative correlation with price\n",
    "* whereas engine and power are having a high positive correlation with price"
   ]
  },
  {
   "cell_type": "markdown",
   "metadata": {},
   "source": [
    "# Converting categorical values into numerical (Fuel type and transmission)"
   ]
  },
  {
   "cell_type": "markdown",
   "metadata": {},
   "source": [
    "x is my feature set and y is the output "
   ]
  },
  {
   "cell_type": "code",
   "execution_count": 115,
   "metadata": {},
   "outputs": [
    {
     "data": {
      "text/plain": [
       "array([ 1.75, 12.5 ,  4.5 , ...,  2.27, 17.56,  7.43])"
      ]
     },
     "execution_count": 115,
     "metadata": {},
     "output_type": "execute_result"
    }
   ],
   "source": [
    "car_data.Price.unique()"
   ]
  },
  {
   "cell_type": "code",
   "execution_count": 103,
   "metadata": {},
   "outputs": [
    {
     "data": {
      "text/plain": [
       "array([[2010, 72000, 'CNG', 'Manual', 'First', 26.6, 998.0, 58.16, 5.0,\n",
       "        23.075655339805817],\n",
       "       [2015, 41000, 'Diesel', 'Manual', 'First', 19.67, 1582.0, 126.2,\n",
       "        5.0, 23.075655339805817],\n",
       "       [2011, 46000, 'Petrol', 'Manual', 'First', 18.2, 1199.0, 88.7,\n",
       "        5.0, 8.61],\n",
       "       [2012, 87000, 'Diesel', 'Manual', 'First', 20.77, 1248.0, 88.76,\n",
       "        7.0, 23.075655339805817],\n",
       "       [2013, 40670, 'Diesel', 'Automatic', 'Second', 15.2, 1968.0,\n",
       "        140.8, 5.0, 23.075655339805817]], dtype=object)"
      ]
     },
     "execution_count": 103,
     "metadata": {},
     "output_type": "execute_result"
    }
   ],
   "source": [
    "X = car_data[['Year','Kilometers_Driven','Fuel_Type','Transmission','Owner_Type','Mileage','Engine','Power','Seats','New_Price']].values\n",
    "X[0:5]"
   ]
  },
  {
   "cell_type": "code",
   "execution_count": 104,
   "metadata": {},
   "outputs": [
    {
     "data": {
      "text/plain": [
       "Name\n",
       "Maruti Wagon R LXI CNG               1.75\n",
       "Hyundai Creta 1.6 CRDi SX Option    12.50\n",
       "Honda Jazz V                         4.50\n",
       "Maruti Ertiga VDI                    6.00\n",
       "Audi A4 New 2.0 TDI Multitronic     17.74\n",
       "Name: Price, dtype: float64"
      ]
     },
     "execution_count": 104,
     "metadata": {},
     "output_type": "execute_result"
    }
   ],
   "source": [
    "y = car_data['Price']\n",
    "y[0:5]"
   ]
  },
  {
   "cell_type": "code",
   "execution_count": 130,
   "metadata": {},
   "outputs": [
    {
     "data": {
      "text/plain": [
       "array([[2010, 72000, 0, 1, 0, 26.6, 998.0, 58.16, 5.0,\n",
       "        23.075655339805817],\n",
       "       [2015, 41000, 1, 1, 0, 19.67, 1582.0, 126.2, 5.0,\n",
       "        23.075655339805817],\n",
       "       [2011, 46000, 4, 1, 0, 18.2, 1199.0, 88.7, 5.0, 8.61],\n",
       "       [2012, 87000, 1, 1, 0, 20.77, 1248.0, 88.76, 7.0,\n",
       "        23.075655339805817],\n",
       "       [2013, 40670, 1, 0, 2, 15.2, 1968.0, 140.8, 5.0,\n",
       "        23.075655339805817]], dtype=object)"
      ]
     },
     "execution_count": 130,
     "metadata": {},
     "output_type": "execute_result"
    }
   ],
   "source": [
    "from sklearn import preprocessing\n",
    "#le_Fuel= preprocessing.LabelEncoder()\n",
    "#le_Fuel.fit(['CNG','Petrol','Diesel','Electric','LPG'])\n",
    "#X[:,2] = le_Fuel.transform(X[:,2]) \n",
    "X[0:5]"
   ]
  },
  {
   "cell_type": "code",
   "execution_count": 128,
   "metadata": {},
   "outputs": [
    {
     "data": {
      "text/plain": [
       "array([[2010, 72000, 0, 1, 0, 26.6, 998.0, 58.16, 5.0,\n",
       "        23.075655339805817],\n",
       "       [2015, 41000, 1, 1, 0, 19.67, 1582.0, 126.2, 5.0,\n",
       "        23.075655339805817],\n",
       "       [2011, 46000, 4, 1, 0, 18.2, 1199.0, 88.7, 5.0, 8.61],\n",
       "       [2012, 87000, 1, 1, 0, 20.77, 1248.0, 88.76, 7.0,\n",
       "        23.075655339805817],\n",
       "       [2013, 40670, 1, 0, 2, 15.2, 1968.0, 140.8, 5.0,\n",
       "        23.075655339805817]], dtype=object)"
      ]
     },
     "execution_count": 128,
     "metadata": {},
     "output_type": "execute_result"
    }
   ],
   "source": [
    "#le_tran = preprocessing.LabelEncoder()\n",
    "#le_tran.fit(['Manual','Automatic'])\n",
    "#X[:,3] = le_tran.transform(X[:,3])\n",
    "X[0:5]"
   ]
  },
  {
   "cell_type": "code",
   "execution_count": 127,
   "metadata": {},
   "outputs": [
    {
     "data": {
      "text/plain": [
       "array([[2010, 72000, 0, 1, 0, 26.6, 998.0, 58.16, 5.0,\n",
       "        23.075655339805817],\n",
       "       [2015, 41000, 1, 1, 0, 19.67, 1582.0, 126.2, 5.0,\n",
       "        23.075655339805817],\n",
       "       [2011, 46000, 4, 1, 0, 18.2, 1199.0, 88.7, 5.0, 8.61],\n",
       "       [2012, 87000, 1, 1, 0, 20.77, 1248.0, 88.76, 7.0,\n",
       "        23.075655339805817],\n",
       "       [2013, 40670, 1, 0, 2, 15.2, 1968.0, 140.8, 5.0,\n",
       "        23.075655339805817]], dtype=object)"
      ]
     },
     "execution_count": 127,
     "metadata": {},
     "output_type": "execute_result"
    }
   ],
   "source": [
    "#le_owner = preprocessing.LabelEncoder()\n",
    "#le_owner.fit(['First','Second','Fourth & Above', 'Third'])\n",
    "#X[:,4] = le_owner.transform(X[:,4]) \n",
    "\n",
    "X[0:5]\n"
   ]
  },
  {
   "cell_type": "markdown",
   "metadata": {},
   "source": [
    "now we have converted categorical values into numerical values\n",
    "For Fuel type\n",
    "CNG - 0\n",
    "Diesel - 1\n",
    "Electric - 2\n",
    "LPG - 3\n",
    "Diesel - 4"
   ]
  },
  {
   "cell_type": "markdown",
   "metadata": {},
   "source": [
    "For transmission \n",
    "Automatic - 0\n",
    "Manual - 1"
   ]
  },
  {
   "cell_type": "markdown",
   "metadata": {},
   "source": [
    "For ownertype\n",
    "First - 0\n",
    "Fourth & Above - 1\n",
    "Second - 2\n",
    "Third - 3"
   ]
  },
  {
   "cell_type": "code",
   "execution_count": 132,
   "metadata": {},
   "outputs": [
    {
     "data": {
      "text/plain": [
       "Name\n",
       "Maruti Wagon R LXI CNG               1.75\n",
       "Hyundai Creta 1.6 CRDi SX Option    12.50\n",
       "Honda Jazz V                         4.50\n",
       "Maruti Ertiga VDI                    6.00\n",
       "Audi A4 New 2.0 TDI Multitronic     17.74\n",
       "Name: Price, dtype: float64"
      ]
     },
     "execution_count": 132,
     "metadata": {},
     "output_type": "execute_result"
    }
   ],
   "source": [
    "y = car_data['Price']\n",
    "y[0:5]"
   ]
  },
  {
   "cell_type": "markdown",
   "metadata": {},
   "source": [
    "# Training and Testing the data"
   ]
  },
  {
   "cell_type": "code",
   "execution_count": 134,
   "metadata": {},
   "outputs": [],
   "source": [
    "from sklearn.model_selection import train_test_split"
   ]
  },
  {
   "cell_type": "code",
   "execution_count": 135,
   "metadata": {},
   "outputs": [],
   "source": [
    "X_trainset, X_testset, y_trainset, y_testset = train_test_split(X, y, test_size=0.2, random_state=0)"
   ]
  },
  {
   "cell_type": "code",
   "execution_count": 136,
   "metadata": {},
   "outputs": [
    {
     "name": "stdout",
     "output_type": "stream",
     "text": [
      "training set: (4815, 10) (4815,)\n",
      "testing set:  (1204, 10) (1204,)\n"
     ]
    }
   ],
   "source": [
    "print(\"training set:\",X_trainset.shape,y_trainset.shape)\n",
    "print(\"testing set: \",X_testset.shape,y_testset.shape)"
   ]
  },
  {
   "cell_type": "code",
   "execution_count": 137,
   "metadata": {},
   "outputs": [
    {
     "data": {
      "text/plain": [
       "LinearRegression(copy_X=True, fit_intercept=True, n_jobs=None,\n",
       "         normalize=False)"
      ]
     },
     "execution_count": 137,
     "metadata": {},
     "output_type": "execute_result"
    }
   ],
   "source": [
    "from sklearn import linear_model\n",
    "regr = linear_model.LinearRegression()\n",
    "regr.fit(X_trainset,y_trainset)"
   ]
  },
  {
   "cell_type": "code",
   "execution_count": 139,
   "metadata": {},
   "outputs": [
    {
     "name": "stdout",
     "output_type": "stream",
     "text": [
      "Coefficents:  [ 1.05376334e+00  1.74930882e-06 -7.20975208e-01 -2.75547362e+00\n",
      " -3.15205324e-03 -2.49176589e-01  4.08361445e-03  7.30088037e-02\n",
      " -1.89616684e+00  2.66221949e-01]\n",
      "Intercepts :  -2114.9022341302484\n"
     ]
    }
   ],
   "source": [
    "print(\"Coefficents: \",regr.coef_)\n",
    "print(\"Intercepts : \",regr.intercept_)"
   ]
  },
  {
   "cell_type": "markdown",
   "metadata": {},
   "source": [
    "# Prediction"
   ]
  },
  {
   "cell_type": "code",
   "execution_count": 140,
   "metadata": {},
   "outputs": [
    {
     "name": "stdout",
     "output_type": "stream",
     "text": [
      "Residual sum of squares: 35.86\n",
      "Variance score: 0.70\n",
      "R2-score: 0.64\n"
     ]
    }
   ],
   "source": [
    "from sklearn.metrics import r2_score\n",
    "y_hat = regr.predict(X_testset)\n",
    "print(\"Residual sum of squares: %.2f\"\n",
    "      % np.mean((y_hat - y_testset) ** 2))\n",
    "print('Variance score: %.2f' % regr.score(X_testset, y_testset))\n",
    "print(\"R2-score: %.2f\" % r2_score(y_hat ,y_testset))"
   ]
  }
 ],
 "metadata": {
  "kernelspec": {
   "display_name": "Python 3",
   "language": "python",
   "name": "python3"
  },
  "language_info": {
   "codemirror_mode": {
    "name": "ipython",
    "version": 3
   },
   "file_extension": ".py",
   "mimetype": "text/x-python",
   "name": "python",
   "nbconvert_exporter": "python",
   "pygments_lexer": "ipython3",
   "version": "3.7.1"
  }
 },
 "nbformat": 4,
 "nbformat_minor": 2
}
